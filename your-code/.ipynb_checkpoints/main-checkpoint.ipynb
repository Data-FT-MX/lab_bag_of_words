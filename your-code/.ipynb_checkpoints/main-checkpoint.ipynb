{
 "cells": [
  {
   "cell_type": "markdown",
   "metadata": {},
   "source": [
    "Define `docs` array that contains the paths of `doc1.txt`, `doc2.txt`, and `doc3.txt`."
   ]
  },
  {
   "cell_type": "code",
   "execution_count": 1,
   "metadata": {},
   "outputs": [],
   "source": [
    "docs = ['doc1.txt', 'doc2.txt', 'doc3.txt']"
   ]
  },
  {
   "cell_type": "markdown",
   "metadata": {},
   "source": [
    "Define an empty array `corpus` that will contain the content strings of the docs. Loop `docs` and read the content of each doc into the `corpus` array."
   ]
  },
  {
   "cell_type": "code",
   "execution_count": 31,
   "metadata": {},
   "outputs": [
    {
     "name": "stdout",
     "output_type": "stream",
     "text": [
      "['Ironhack is cool.', 'I love Ironhack.', 'I am a student at Ironhack.']\n",
      "['ironhack is cool', 'i love ironhack', 'i am a student at ironhack']\n"
     ]
    }
   ],
   "source": [
    "# Write your code here\n",
    "import re\n",
    "#path_0 = r\"C:\\Users\\Paola Baez\\Documents\\Ironhack\\ModuleOne\\Labs\\03.String-Operations\\lab_bag_of_words\\your-code\\doc1.txt\"\n",
    "#path_1 = r\"C:\\Users\\Paola Baez\\Documents\\Ironhack\\ModuleOne\\Labs\\03.String-Operations\\lab_bag_of_words\\your-code\\doc2.txt\"\n",
    "#path_2 = r\"C:\\Users\\Paola Baez\\Documents\\Ironhack\\ModuleOne\\Labs\\03.String-Operations\\lab_bag_of_words\\your-code\\doc3.txt\"\n",
    "#data = [ path_0, path_1, path_2 ]\n",
    "#print(data)\n",
    "corpus = []\n",
    "\n",
    "#Funcion para abrir varios documentos\n",
    "for i in docs:\n",
    "     with open(i) as file:\n",
    "            corpus += file\n",
    "print(corpus)\n",
    "\n",
    "#Funcion para limpiar puntos y minusculas de la lista\n",
    "for k in range(len(corpus)):\n",
    "    corpus[k] = corpus[k].replace('.','').lower()\n",
    "print(corpus)\n",
    "    \n",
    "\n",
    "\n",
    "\n",
    "\n"
   ]
  },
  {
   "cell_type": "markdown",
   "metadata": {},
   "source": [
    "Print `corpus`."
   ]
  },
  {
   "cell_type": "code",
   "execution_count": null,
   "metadata": {},
   "outputs": [],
   "source": []
  },
  {
   "cell_type": "markdown",
   "metadata": {},
   "source": [
    "You should have seen:\n",
    "\n",
    "```['ironhack is cool', 'i love ironhack', 'i am a student at ironhack']```\n",
    "\n",
    "However, if your output is:\n",
    "\n",
    "```['Ironhack is cool.', 'I love Ironhack.', 'I am a student at Ironhack.']```\n",
    "\n",
    "This means you didn't:\n",
    "\n",
    "1. Remove punctuation from the strings;\n",
    "\n",
    "1. Convert strings to lowercase.\n",
    "\n",
    "Revise your code above until you receive the correct output for `corpus`."
   ]
  },
  {
   "cell_type": "markdown",
   "metadata": {},
   "source": [
    "Now define `bag_of_words` as an empty array. It will contain the unique terms in `corpus`.\n",
    "\n",
    "Loop through `corpus`. In each loop, do the following:\n",
    "\n",
    "1. Break the string into an array of terms. \n",
    "1. Create a sub-loop to iterate the terms array. \n",
    "  * In each sub-loop, you'll check if the current term is already contained in `bag_of_words`. If not in `bag_of_words`, append it to the array."
   ]
  },
  {
   "cell_type": "code",
   "execution_count": 85,
   "metadata": {},
   "outputs": [
    {
     "name": "stdout",
     "output_type": "stream",
     "text": [
      "['ironhack', 'is', 'cool', 'i', 'love', 'am', 'a', 'student', 'at']\n"
     ]
    }
   ],
   "source": [
    "bag_of_words = []\n",
    "\n",
    "# Write your code here\n",
    "\n",
    "\n",
    "for k in range(len(corpus)):\n",
    "    # crear un string con cada palabra del array\n",
    "    z = corpus[k].split()\n",
    "    for j in z:\n",
    "        if j not in bag_of_words:\n",
    "            bag_of_words.append(j)\n",
    "     \n",
    "print(bag_of_words)\n",
    "\n",
    "\n"
   ]
  },
  {
   "cell_type": "markdown",
   "metadata": {},
   "source": [
    "Print `bag_of_words`. You should see: \n",
    "\n",
    "```['ironhack', 'is', 'cool', 'i', 'love', 'am', 'a', 'student', 'at']```"
   ]
  },
  {
   "cell_type": "code",
   "execution_count": null,
   "metadata": {},
   "outputs": [],
   "source": []
  },
  {
   "cell_type": "markdown",
   "metadata": {},
   "source": [
    "Now we define an empty array called `term_freq`. Loop `corpus` for a second time. In each loop, create a sub-loop to iterate the terms in `bag_of_words`. Count how many times each term appears in each doc of `corpus`. Append the term-frequency array to `term_freq`."
   ]
  },
  {
   "cell_type": "code",
   "execution_count": 123,
   "metadata": {},
   "outputs": [
    {
     "name": "stdout",
     "output_type": "stream",
     "text": [
      "ironhack\n",
      "['ironhack', 'is', 'cool', 'i', 'love', 'am', 'a', 'student', 'at']\n",
      "['ironhack is cool', 'i love ironhack', 'i am a student at ironhack']\n",
      "3\n",
      "9\n",
      "ironhack is cool\n",
      "1\n",
      "ironhack\n",
      "i am a student at ironhack\n",
      "2\n",
      "0\n"
     ]
    }
   ],
   "source": [
    "term_freq = []\n",
    "frecuenciaPalab = []\n",
    "\n",
    "# Write your code here\n",
    "print(bag_of_words[0])\n",
    "print(bag_of_words)\n",
    "print(corpus)\n",
    "print(len(corpus))\n",
    "print(len(bag_of_words))\n",
    "print(corpus[0])\n",
    "print(corpus[0].count(bag_of_words[0]))\n",
    "\n",
    "\n",
    "\n",
    "print(bag_of_words[0])\n",
    "print(corpus[2])\n",
    "print(corpus[0].count(bag_of_words[3]))\n",
    "print(bag_of_words[0].count(corpus[2]))\n",
    "\n",
    "        \n",
    "\n"
   ]
  },
  {
   "cell_type": "markdown",
   "metadata": {},
   "source": [
    "Print `term_freq`. You should see:\n",
    "\n",
    "```[[1, 1, 1, 0, 0, 0, 0, 0, 0], [1, 0, 0, 1, 1, 0, 0, 0, 0], [1, 0, 0, 1, 0, 1, 1, 1, 1]]```"
   ]
  },
  {
   "cell_type": "code",
   "execution_count": null,
   "metadata": {},
   "outputs": [],
   "source": []
  },
  {
   "cell_type": "markdown",
   "metadata": {},
   "source": [
    "**If your answer is correct, congratulations! You've solved the challenge!**\n",
    "\n",
    "If not, go back and check for errors in your code."
   ]
  }
 ],
 "metadata": {
  "kernelspec": {
   "display_name": "Python 3",
   "language": "python",
   "name": "python3"
  },
  "language_info": {
   "codemirror_mode": {
    "name": "ipython",
    "version": 3
   },
   "file_extension": ".py",
   "mimetype": "text/x-python",
   "name": "python",
   "nbconvert_exporter": "python",
   "pygments_lexer": "ipython3",
   "version": "3.8.8"
  }
 },
 "nbformat": 4,
 "nbformat_minor": 2
}
