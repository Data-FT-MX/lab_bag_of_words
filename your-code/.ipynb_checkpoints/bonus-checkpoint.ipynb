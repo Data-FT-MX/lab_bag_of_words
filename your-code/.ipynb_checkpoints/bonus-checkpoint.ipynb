{
 "cells": [
  {
   "cell_type": "markdown",
   "metadata": {},
   "source": [
    "Now you want to improve your previous solution by removing the stop words from the corpus. The idea is you only want to add terms that are not in the `stop_words` list to the `bag_of_words` array.\n",
    "\n",
    "Requirements:\n",
    "\n",
    "1. Move all your previous codes from `main.ipynb` to the cell below.\n",
    "1. Improve your solution by ignoring stop words in `bag_of_words`.\n",
    "\n",
    "After you're done, your `bag_of_words` should be:\n",
    "\n",
    "```['ironhack', 'is', 'cool', 'love', 'am', 'student', 'at']```\n",
    "\n",
    "And your `term_freq` should be:\n",
    "\n",
    "```[[1, 1, 1, 0, 0, 0, 0], [1, 0, 0, 1, 0, 0, 0], [1, 0, 0, 0, 1, 1, 1]]```"
   ]
  },
  {
   "cell_type": "code",
   "execution_count": 1,
   "metadata": {},
   "outputs": [],
   "source": [
    "stop_words = ['all', 'six', 'less', 'being', 'indeed', 'over', 'move', 'anyway', 'fifty', 'four', 'not', 'own', 'through', 'yourselves', 'go', 'where', 'mill', 'only', 'find', 'before', 'one', 'whose', 'system', 'how', 'somewhere', 'with', 'thick', 'show', 'had', 'enough', 'should', 'to', 'must', 'whom', 'seeming', 'under', 'ours', 'has', 'might', 'thereafter', 'latterly', 'do', 'them', 'his', 'around', 'than', 'get', 'very', 'de', 'none', 'cannot', 'every', 'whether', 'they', 'front', 'during', 'thus', 'now', 'him', 'nor', 'name', 'several', 'hereafter', 'always', 'who', 'cry', 'whither', 'this', 'someone', 'either', 'each', 'become', 'thereupon', 'sometime', 'side', 'two', 'therein', 'twelve', 'because', 'often', 'ten', 'our', 'eg', 'some', 'back', 'up', 'namely', 'towards', 'are', 'further', 'beyond', 'ourselves', 'yet', 'out', 'even', 'will', 'what', 'still', 'for', 'bottom', 'mine', 'since', 'please', 'forty', 'per', 'its', 'everything', 'behind', 'un', 'above', 'between', 'it', 'neither', 'seemed', 'ever', 'across', 'she', 'somehow', 'be', 'we', 'full', 'never', 'sixty', 'however', 'here', 'otherwise', 'were', 'whereupon', 'nowhere', 'although', 'found', 'alone', 're', 'along', 'fifteen', 'by', 'both', 'about', 'last', 'would', 'anything', 'via', 'many', 'could', 'thence', 'put', 'against', 'keep', 'etc', 'amount', 'became', 'ltd', 'hence', 'onto', 'or', 'con', 'among', 'already', 'co', 'afterwards', 'formerly', 'within', 'seems', 'into', 'others', 'while', 'whatever', 'except', 'down', 'hers', 'everyone', 'done', 'least', 'another', 'whoever', 'moreover', 'couldnt', 'throughout', 'anyhow', 'yourself', 'three', 'from', 'her', 'few', 'together', 'top', 'there', 'due', 'been', 'next', 'anyone', 'eleven', 'much', 'call', 'therefore', 'interest', 'then', 'thru', 'themselves', 'hundred', 'was', 'sincere', 'empty', 'more', 'himself', 'elsewhere', 'mostly', 'on', 'fire', 'am', 'becoming', 'hereby', 'amongst', 'else', 'part', 'everywhere', 'too', 'herself', 'former', 'those', 'he', 'me', 'myself', 'made', 'twenty', 'these', 'bill', 'cant', 'us', 'until', 'besides', 'nevertheless', 'below', 'anywhere', 'nine', 'can', 'of', 'your', 'toward', 'my', 'something', 'and', 'whereafter', 'whenever', 'give', 'almost', 'wherever', 'is', 'describe', 'beforehand', 'herein', 'an', 'as', 'itself', 'at', 'have', 'in', 'seem', 'whence', 'ie', 'any', 'fill', 'again', 'hasnt', 'inc', 'thereby', 'thin', 'no', 'perhaps', 'latter', 'meanwhile', 'when', 'detail', 'same', 'wherein', 'beside', 'also', 'that', 'other', 'take', 'which', 'becomes', 'you', 'if', 'nobody', 'see', 'though', 'may', 'after', 'upon', 'most', 'hereupon', 'eight', 'but', 'serious', 'nothing', 'such', 'why', 'a', 'off', 'whereby', 'third', 'i', 'whole', 'noone', 'sometimes', 'well', 'amoungst', 'yours', 'their', 'rather', 'without', 'so', 'five', 'the', 'first', 'whereas', 'once']\n",
    "\n",
    "# Write your code below\n",
    "docs = ['doc1.txt', 'doc2.txt', 'doc3.txt']\n",
    "corpus = []\n",
    "\n",
    "# Write your code here\n",
    "for i in docs:                   # Con la funcion open() abrimos el archivo en el directorio\n",
    "    x = open(i).readlines()[0]   # .readlines() nos da una lista con lista que contienen los strings del texto\n",
    "    x = x.lower()\n",
    "    corpus.append(x[:-1])        # Asignamos a corpus todos los valores de x menos el ultimo que es el .\n",
    "    \n",
    "bag_of_words = []\n",
    "\n",
    "# Write your code here\n",
    "import re\n",
    "\n",
    "for i in corpus:                    # Primer loop para obtener cada string de corpus\n",
    "    for y in re.split(' ', i):      # Segundo loop para separar el string en una lista con palabras usamos la funcion re.split(r' ', )\n",
    "        if not y in bag_of_words:   # Si la letra no esta en bag_of_word la agrega a la lista\n",
    "            bag_of_words.append(y)\n",
    "\n",
    "            "
   ]
  },
  {
   "cell_type": "code",
   "execution_count": 8,
   "metadata": {},
   "outputs": [
    {
     "name": "stdout",
     "output_type": "stream",
     "text": [
      "ironhack NO esta en stop_words\n",
      "is SI esta en stop_words\n",
      "cool NO esta en stop_words\n",
      "i SI esta en stop_words\n",
      "love NO esta en stop_words\n",
      "am SI esta en stop_words\n",
      "a SI esta en stop_words\n",
      "student NO esta en stop_words\n",
      "at SI esta en stop_words\n"
     ]
    },
    {
     "data": {
      "text/plain": [
       "[None, None, None, None, None, None, None, None, None]"
      ]
     },
     "execution_count": 8,
     "metadata": {},
     "output_type": "execute_result"
    }
   ],
   "source": [
    "# Comprobacion de palabras \n",
    "\n",
    "[print(i, 'SI esta en stop_words') if i in stop_words else print(i, 'NO esta en stop_words') for i in bag_of_words]"
   ]
  },
  {
   "cell_type": "code",
   "execution_count": 9,
   "metadata": {},
   "outputs": [
    {
     "name": "stdout",
     "output_type": "stream",
     "text": [
      "['ironhack', 'cool', 'love', 'student']\n"
     ]
    }
   ],
   "source": [
    "# Tenemos que quitar las palabras de stop_word de bag_of_words\n",
    "\n",
    "for i in range(len(stop_words)):\n",
    "    for y in range(len(bag_of_words)):\n",
    "        if stop_words[i] == bag_of_words[y]:  # Si la palabra esta en stop_words y en bag_of_words entonces la eliminamos\n",
    "            bag_of_words.pop(y)               # de bag_of_words con la funcion .pop y en index que ya conocemos por el loop\n",
    "            break                     # Una vez eliminada la palabra salgo porque no tengo palabras repetidas en bag_of_words\n",
    "            \n",
    "print(bag_of_words)"
   ]
  },
  {
   "cell_type": "code",
   "execution_count": 10,
   "metadata": {},
   "outputs": [],
   "source": [
    "term_freq = []\n",
    "count = 0\n",
    "\n",
    "for x in range(len(corpus)):  # Primero  hacemos un loop de corpus para tomar cada string\n",
    "    lista = []                # Cada vez que un string termine de ser analizado volvemos a poner la lista vacia\n",
    "    for i in range(len(bag_of_words)):         # El segundo loop es de cada palabra en bag_of_words\n",
    "        for y in re.split(r' ', corpus[x]):    # Separamos el string de corpus en palabras\n",
    "            if bag_of_words[i] == y:           # Comparamos la palabra de bag_of_words con cada palabra del string de corpus\n",
    "                count += 1                     # Si las palabras son iguales contamos\n",
    "        \n",
    "        lista.append(count)                    # Una vez hemos contado, agregamos el valor a una variable\n",
    "        count = 0                              # Volvemos a poner el contador en 0 para contar la proxima palabra\n",
    "       \n",
    "    term_freq.append(lista)                    # Una vez al final del primer loop hemos entonces analizado cuantas veces se\n",
    "                                               # repite cada palabra de bag_of_words en el string de corpus. Esa lista la\n",
    "                                               # añadimos a term_freq"
   ]
  },
  {
   "cell_type": "code",
   "execution_count": 11,
   "metadata": {},
   "outputs": [
    {
     "name": "stdout",
     "output_type": "stream",
     "text": [
      "[[1, 1, 0, 0], [1, 0, 1, 0], [1, 0, 0, 1]]\n"
     ]
    }
   ],
   "source": [
    "print(term_freq)"
   ]
  },
  {
   "cell_type": "code",
   "execution_count": null,
   "metadata": {},
   "outputs": [],
   "source": []
  }
 ],
 "metadata": {
  "kernelspec": {
   "display_name": "Python 3",
   "language": "python",
   "name": "python3"
  },
  "language_info": {
   "codemirror_mode": {
    "name": "ipython",
    "version": 3
   },
   "file_extension": ".py",
   "mimetype": "text/x-python",
   "name": "python",
   "nbconvert_exporter": "python",
   "pygments_lexer": "ipython3",
   "version": "3.8.8"
  }
 },
 "nbformat": 4,
 "nbformat_minor": 2
}
